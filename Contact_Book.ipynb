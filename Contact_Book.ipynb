{
  "nbformat": 4,
  "nbformat_minor": 0,
  "metadata": {
    "colab": {
      "provenance": [],
      "authorship_tag": "ABX9TyOcAxiZrywvxjts/8kIZMjH",
      "include_colab_link": true
    },
    "kernelspec": {
      "name": "python3",
      "display_name": "Python 3"
    },
    "language_info": {
      "name": "python"
    }
  },
  "cells": [
    {
      "cell_type": "markdown",
      "metadata": {
        "id": "view-in-github",
        "colab_type": "text"
      },
      "source": [
        "<a href=\"https://colab.research.google.com/github/ankitabera25/html_portfolio/blob/main/Contact_Book.ipynb\" target=\"_parent\"><img src=\"https://colab.research.google.com/assets/colab-badge.svg\" alt=\"Open In Colab\"/></a>"
      ]
    },
    {
      "cell_type": "code",
      "execution_count": null,
      "metadata": {
        "colab": {
          "base_uri": "https://localhost:8080/"
        },
        "id": "agY3CG6NxAt-",
        "outputId": "fc0b4946-755e-43fd-a0c1-cb76211a774b"
      },
      "outputs": [
        {
          "output_type": "stream",
          "name": "stdout",
          "text": [
            "\n",
            "Contact Book App\n",
            "1. Create contact\n",
            "2. View contact\n",
            "3. Update contact\n",
            "4. Delete contact\n",
            "5. Search contact\n",
            "6. Count contact\n",
            "7. Exit\n",
            "Enter your choice= 1\n",
            "Enter your name= Ankita\n",
            "Enter age = 20\n",
            "Enter email = ankitabera9339@gmail.com\n",
            "Enter mobile number = 9339765065\n",
            "Contact name Ankita has been created successfully!\n",
            "\n",
            "Contact Book App\n",
            "1. Create contact\n",
            "2. View contact\n",
            "3. Update contact\n",
            "4. Delete contact\n",
            "5. Search contact\n",
            "6. Count contact\n",
            "7. Exit\n"
          ]
        }
      ],
      "source": [
        "contacts={}\n",
        "while True:\n",
        "    print('\\nContact Book App')\n",
        "    print('1. Create contact')\n",
        "    print('2. View contact')\n",
        "    print('3. Update contact')\n",
        "    print('4. Delete contact')\n",
        "    print('5. Search contact')\n",
        "    print('6. Count contact')\n",
        "    print('7. Exit')\n",
        "\n",
        "    choice=input('Enter your choice= ')\n",
        "\n",
        "    if choice == '1':\n",
        "        name= input('Enter your name= ')\n",
        "        if name in contacts:\n",
        "            print(f'Contact name {name} already exists!')\n",
        "        else:\n",
        "            age= input(\"Enter age = \")\n",
        "            email= input(\"Enter email = \")\n",
        "            mobile=input(\"Enter mobile number = \")\n",
        "            contacts[name] = {'age':int(age), 'email':email, 'mobile':mobile}\n",
        "            print(f'Contact name {name} has been created successfully!')\n",
        "\n",
        "    elif choice == '2':\n",
        "        name= input('Enter contact name to view = ')\n",
        "        if name in contacts:\n",
        "            contact=contacts[name]\n",
        "            print(f'Name: {name},Age:{age},Mobile Number:{mobile}')\n",
        "        else:\n",
        "            print('Contact not found!')\n",
        "\n",
        "    elif choice == '3':\n",
        "        name= input('Enter name to update contact = ')\n",
        "        if name in contacts:\n",
        "            age= input(\"Enter updated age = \")\n",
        "            email= input(\"Enter updated email = \")\n",
        "            mobile=input(\"Enter updated mobile number = \")\n",
        "            contacts[name] = {'age':int(age), 'email':email, 'mobile':mobile}\n",
        "        else:\n",
        "            print('Contact not found!')\n",
        "\n",
        "    elif choice == '4':\n",
        "        name= input('Enter contact name to delete = ')\n",
        "        if name in contacts:\n",
        "            del contacts[name]\n",
        "            print(f'Contact name {name} has been deleted successfully!')\n",
        "        else:\n",
        "            print('Contact not found!')\n",
        "\n",
        "    elif choice == '5':\n",
        "        search_name=input('Enter contact name to search =')\n",
        "        found=False\n",
        "        for name, contact in contacts.items():\n",
        "            if search_name.lower() in name.lower():\n",
        "                print(f'Found - Name {name},Age:{age},Mobile Number:{mobile},Email:{email}')\n",
        "                found=True\n",
        "            if not found:\n",
        "                print('No contact found with that name')\n",
        "\n",
        "    elif choice == '6':\n",
        "        print(f'Total contact in your book: {len(contact)}')\n",
        "\n",
        "    elif choice == '7':\n",
        "        print('Good bye....Closing the program')\n",
        "        break\n",
        "    else:\n",
        "        print(\"Invalid Input\")"
      ]
    }
  ]
}